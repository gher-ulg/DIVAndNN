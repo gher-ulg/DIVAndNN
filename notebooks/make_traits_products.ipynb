{
 "cells": [
  {
   "cell_type": "code",
   "execution_count": 1,
   "metadata": {
    "collapsed": true
   },
   "outputs": [],
   "source": [
    "using DIVAnd\n",
    "using PyPlot\n",
    "using NCDatasets\n",
    "using Missings\n",
    "using Interpolations\n",
    "\n",
    "if VERSION >= v\"0.7\"\n",
    "    using Random\n",
    "    using DelimitedFiles\n",
    "    using Statistics\n",
    "    using Printf\n",
    "    using FileIO\n",
    "else\n",
    "    using Compat: @info, @warn, range, cat\n",
    "end"
   ]
  },
  {
   "cell_type": "code",
   "execution_count": 2,
   "metadata": {},
   "outputs": [
    {
     "ename": "LoadError",
     "evalue": "syntax: cannot juxtapose string literal",
     "output_type": "error",
     "traceback": [
      "syntax: cannot juxtapose string literal",
      ""
     ]
    }
   ],
   "source": [
    "# Module where the output grid and the modules are defined\n",
    "include(\"../src/emodnet_bio_grid.jl\");\n",
    "include(\"../src/make_traits_products.jl\".jl\");"
   ]
  },
  {
   "cell_type": "code",
   "execution_count": 3,
   "metadata": {},
   "outputs": [
    {
     "data": {
      "text/plain": [
       "\"../output/Benthos_Traits_ab.nc\""
      ]
     },
     "execution_count": 3,
     "metadata": {},
     "output_type": "execute_result"
    }
   ],
   "source": [
    "datafile = \"/home/ctroupin/tmp/Emodnet-Bio/Traits/Benthos_Traits_ab.csv\"\n",
    "figdir = \"../figures/traits/\"\n",
    "outputdir = \"../output/\"\n",
    "outputfile = joinpath(outputdir, replace(basename(datafile), \".csv\" => \".nc\"))"
   ]
  },
  {
   "cell_type": "markdown",
   "metadata": {},
   "source": [
    "## Read data"
   ]
  },
  {
   "cell_type": "code",
   "execution_count": 4,
   "metadata": {},
   "outputs": [
    {
     "name": "stderr",
     "output_type": "stream",
     "text": [
      "┌ Info: Working on 62 traits\n",
      "└ @ Main In[4]:8\n"
     ]
    }
   ],
   "source": [
    "if isfile(datafile)\n",
    "    data,header = readdlm(datafile,',',header = true);\n",
    "else\n",
    "    @warn \"Data file doesn't exist\"\n",
    "end\n",
    "varlist = header[5:end];\n",
    "ntraits = length(varlist);\n",
    "@info \"Working on $(ntraits) traits\""
   ]
  },
  {
   "cell_type": "markdown",
   "metadata": {},
   "source": [
    "### Get coordinates"
   ]
  },
  {
   "cell_type": "code",
   "execution_count": 5,
   "metadata": {},
   "outputs": [],
   "source": [
    "indexlon = findfirst(header .== \"x\").I[2];\n",
    "indexlat = findfirst(header .== \"y\").I[2];\n",
    "obslon = Vector{Float64}(data[:,indexlon]);\n",
    "obslat = Vector{Float64}(data[:,indexlat]);"
   ]
  },
  {
   "cell_type": "markdown",
   "metadata": {},
   "source": [
    "### Mask and bathymetry"
   ]
  },
  {
   "cell_type": "code",
   "execution_count": 6,
   "metadata": {},
   "outputs": [
    {
     "name": "stderr",
     "output_type": "stream",
     "text": [
      "┌ Info: (451, 371)\n",
      "└ @ Main In[6]:15\n"
     ]
    }
   ],
   "source": [
    "# Grid stored in emodnet_bio_grid.jl\n",
    "xi,yi = DIVAnd.ndgrid(gridlonFish, gridlatFish);\n",
    "\n",
    "# Mask\n",
    "topodir = \"../data/\"\n",
    "topofile = joinpath(topodir, \"gebco_30sec_8.nc\");\n",
    "\n",
    "if isfile(topofile)\n",
    "    bx, by, b = DIVAnd.load_bath(topofile,true,gridlonBenthos, gridlatBenthos);\n",
    "    xmask, ymask, mmask = DIVAnd.load_mask(topofile,true,gridlonBenthos, gridlatBenthos,[0]);\n",
    "else\n",
    "    @error \"Bathymetry file doesn't exist\"\n",
    "end\n",
    "mmask = mmask[:,:,1]\n",
    "@info size(mmask)\n",
    "\n",
    "# Metrics\n",
    "pm = ones(size(xi)) / (xi[2,1]-xi[1,1]);\n",
    "pn = ones(size(xi)) / (yi[1,2]-yi[1,1]);"
   ]
  },
  {
   "cell_type": "markdown",
   "metadata": {},
   "source": [
    "## Parameter choice "
   ]
  },
  {
   "cell_type": "code",
   "execution_count": 7,
   "metadata": {
    "collapsed": true
   },
   "outputs": [],
   "source": [
    "# Correlation length\n",
    "len = 2.;\n",
    "# Observational error variance normalized by the background error variance\n",
    "epsilon2 = 5.;"
   ]
  },
  {
   "cell_type": "markdown",
   "metadata": {},
   "source": [
    "The weight is decreased for very close points."
   ]
  },
  {
   "cell_type": "code",
   "execution_count": 8,
   "metadata": {},
   "outputs": [
    {
     "name": "stdout",
     "output_type": "stream",
     "text": [
      "(maximum(rdiag), mean(rdiag)) = (439.41430029504994, 33.49833660679846)\n"
     ]
    }
   ],
   "source": [
    "rdiag=1.0./DIVAnd.weight_RtimesOne((obslon, obslat),(0.03,0.03))\n",
    "@show maximum(rdiag),mean(rdiag);\n",
    "epsilon2 = epsilon2*rdiag;"
   ]
  },
  {
   "cell_type": "markdown",
   "metadata": {},
   "source": [
    "## Analysis\n",
    "All the fields are stored in a 3D array, to be later written to a netCDF file."
   ]
  },
  {
   "cell_type": "code",
   "execution_count": 9,
   "metadata": {},
   "outputs": [
    {
     "name": "stderr",
     "output_type": "stream",
     "text": [
      "┌ Info: Working on Body.length..1cm\n",
      "└ @ Main In[9]:5\n"
     ]
    },
    {
     "ename": "UndefVarError",
     "evalue": "UndefVarError: traits_analysis not defined",
     "output_type": "error",
     "traceback": [
      "UndefVarError: traits_analysis not defined",
      "",
      "Stacktrace:",
      " [1] macro expansion at ./logging.jl:309 [inlined]",
      " [2] top-level scope at ./In[9]:5"
     ]
    }
   ],
   "source": [
    "# Allocate matrix with all the gridded fields\n",
    "trait_all = Array{Float64}(undef, ntraits, length(gridlonFish), length(gridlatFish));\n",
    "trait_err = Array{Float64}(undef, length(gridlonFish), length(gridlatFish));\n",
    "for i in 1:ntraits\n",
    "    @info \"Working on $(varlist[i])\" \n",
    "    indextrait = findfirst(header .== varlist[i]).I[2];\n",
    "    trait = Vector{Float64}(data[:,indextrait]) \n",
    "    traits_interp = traits_analysis(obslon, obslat, trait);\n",
    "    if i == 1\n",
    "        @info \"Computing error field\"\n",
    "        trais_err = traits_error(obslon, obslat, trait);\n",
    "    end\n",
    "    trait_all[i,:,:] = traits_interp;\n",
    "end"
   ]
  },
  {
   "cell_type": "markdown",
   "metadata": {},
   "source": [
    "### Write netCDF"
   ]
  },
  {
   "cell_type": "code",
   "execution_count": 10,
   "metadata": {},
   "outputs": [
    {
     "ename": "UndefVarError",
     "evalue": "UndefVarError: write_traits_nc not defined",
     "output_type": "error",
     "traceback": [
      "UndefVarError: write_traits_nc not defined",
      "",
      "Stacktrace:",
      " [1] top-level scope at In[10]:1"
     ]
    }
   ],
   "source": [
    "write_traits_nc(outputfile, gridlonFish, gridlatFish, \n",
    "                trait_all, traits_err, varlist);"
   ]
  },
  {
   "cell_type": "markdown",
   "metadata": {},
   "source": [
    "## Plots"
   ]
  },
  {
   "cell_type": "code",
   "execution_count": 11,
   "metadata": {},
   "outputs": [
    {
     "ename": "MethodError",
     "evalue": "MethodError: no method matching genperm(::Tuple{Base.OneTo{Int64}}, ::Tuple{Int64,Int64})\nClosest candidates are:\n  genperm(::Tuple{Vararg{Any,N}}, !Matched::Tuple{Vararg{Int64,N}}) where N at permuteddimsarray.jl:77\n  genperm(::Any, !Matched::AbstractArray{Int64,1}) at permuteddimsarray.jl:78",
     "output_type": "error",
     "traceback": [
      "MethodError: no method matching genperm(::Tuple{Base.OneTo{Int64}}, ::Tuple{Int64,Int64})\nClosest candidates are:\n  genperm(::Tuple{Vararg{Any,N}}, !Matched::Tuple{Vararg{Int64,N}}) where N at permuteddimsarray.jl:77\n  genperm(::Any, !Matched::AbstractArray{Int64,1}) at permuteddimsarray.jl:78",
      "",
      "Stacktrace:",
      " [1] genperm at ./permuteddimsarray.jl:78 [inlined]",
      " [2] permutedims(::StepRangeLen{Float64,Base.TwicePrecision{Float64},Base.TwicePrecision{Float64}}, ::Array{Int64,1}) at ./permuteddimsarray.jl:112",
      " [3] #make_plot_grid#7(::Int64, ::Float64, ::Function, ::StepRangeLen{Float64,Base.TwicePrecision{Float64},Base.TwicePrecision{Float64}}, ::StepRangeLen{Float64,Base.TwicePrecision{Float64},Base.TwicePrecision{Float64}}, ::Array{Float64,2}, ::SubString{String}) at /home/ctroupin/ULg/Tools/DIVAndNN/src/make_benthos_products.jl:305",
      " [4] (::getfield(Main, Symbol(\"#kw##make_plot_grid\")))(::NamedTuple{(:vmin,),Tuple{Int64}}, ::typeof(make_plot_grid), ::StepRangeLen{Float64,Base.TwicePrecision{Float64},Base.TwicePrecision{Float64}}, ::StepRangeLen{Float64,Base.TwicePrecision{Float64},Base.TwicePrecision{Float64}}, ::Array{Float64,2}, ::SubString{String}) at ./none:0",
      " [5] top-level scope at ./In[11]:2"
     ]
    }
   ],
   "source": [
    "for ii = 1:ntraits\n",
    "    make_plot_grid(gridlonFish, gridlatFish, trait_all[ii,:,:], varlist[ii]; vmin=0)\n",
    "    figname = joinpath(figdir, replace(varlist[ii], \".\" => \"_\"))\n",
    "    PyPlot.savefig(figname, dpi=300, bbox_inches=\"tight\")\n",
    "    PyPlot.close_figs()\n",
    "end"
   ]
  },
  {
   "cell_type": "code",
   "execution_count": 12,
   "metadata": {},
   "outputs": [
    {
     "ename": "PyCall.PyError",
     "evalue": "PyError ($(Expr(:escape, :(ccall(#= /home/ctroupin/.julia/packages/PyCall/0jMpb/src/pyfncall.jl:44 =# @pysym(:PyObject_Call), PyPtr, (PyPtr, PyPtr, PyPtr), o, pyargsptr, kw))))) <class 'TypeError'>\nTypeError('Dimensions of C (261, 391) are incompatible with X (451) and/or Y (371); see help(pcolormesh)',)\n  File \"/home/ctroupin/miniconda3/lib/python3.6/site-packages/matplotlib/pyplot.py\", line 3245, in pcolormesh\n    ret = ax.pcolormesh(*args, **kwargs)\n  File \"/home/ctroupin/miniconda3/lib/python3.6/site-packages/matplotlib/__init__.py\", line 1892, in inner\n    return func(ax, *args, **kwargs)\n  File \"/home/ctroupin/miniconda3/lib/python3.6/site-packages/matplotlib/axes/_axes.py\", line 5569, in pcolormesh\n    X, Y, C = self._pcolorargs('pcolormesh', *args, allmatch=allmatch)\n  File \"/home/ctroupin/miniconda3/lib/python3.6/site-packages/matplotlib/axes/_axes.py\", line 5192, in _pcolorargs\n    C.shape, Nx, Ny, funcname))\n",
     "output_type": "error",
     "traceback": [
      "PyError ($(Expr(:escape, :(ccall(#= /home/ctroupin/.julia/packages/PyCall/0jMpb/src/pyfncall.jl:44 =# @pysym(:PyObject_Call), PyPtr, (PyPtr, PyPtr, PyPtr), o, pyargsptr, kw))))) <class 'TypeError'>\nTypeError('Dimensions of C (261, 391) are incompatible with X (451) and/or Y (371); see help(pcolormesh)',)\n  File \"/home/ctroupin/miniconda3/lib/python3.6/site-packages/matplotlib/pyplot.py\", line 3245, in pcolormesh\n    ret = ax.pcolormesh(*args, **kwargs)\n  File \"/home/ctroupin/miniconda3/lib/python3.6/site-packages/matplotlib/__init__.py\", line 1892, in inner\n    return func(ax, *args, **kwargs)\n  File \"/home/ctroupin/miniconda3/lib/python3.6/site-packages/matplotlib/axes/_axes.py\", line 5569, in pcolormesh\n    X, Y, C = self._pcolorargs('pcolormesh', *args, allmatch=allmatch)\n  File \"/home/ctroupin/miniconda3/lib/python3.6/site-packages/matplotlib/axes/_axes.py\", line 5192, in _pcolorargs\n    C.shape, Nx, Ny, funcname))\n",
      "",
      "Stacktrace:",
      " [1] pyerr_check at /home/ctroupin/.julia/packages/PyCall/0jMpb/src/exception.jl:60 [inlined]",
      " [2] pyerr_check at /home/ctroupin/.julia/packages/PyCall/0jMpb/src/exception.jl:64 [inlined]",
      " [3] macro expansion at /home/ctroupin/.julia/packages/PyCall/0jMpb/src/exception.jl:84 [inlined]",
      " [4] __pycall!(::PyCall.PyObject, ::Ptr{PyCall.PyObject_struct}, ::PyCall.PyObject, ::PyCall.PyObject) at /home/ctroupin/.julia/packages/PyCall/0jMpb/src/pyfncall.jl:44",
      " [5] _pycall!(::PyCall.PyObject, ::PyCall.PyObject, ::Tuple{Array{Float64,1},Array{Float64,1},Array{Float64,2}}, ::Int64, ::PyCall.PyObject) at /home/ctroupin/.julia/packages/PyCall/0jMpb/src/pyfncall.jl:22",
      " [6] _pycall!(::PyCall.PyObject, ::PyCall.PyObject, ::Tuple{Array{Float64,1},Array{Float64,1},Array{Float64,2}}, ::Base.Iterators.Pairs{Symbol,Real,Tuple{Symbol,Symbol},NamedTuple{(:vmin, :vmax),Tuple{Int64,Float64}}}) at /home/ctroupin/.julia/packages/PyCall/0jMpb/src/pyfncall.jl:11",
      " [7] #pycall#88(::Base.Iterators.Pairs{Symbol,Real,Tuple{Symbol,Symbol},NamedTuple{(:vmin, :vmax),Tuple{Int64,Float64}}}, ::Function, ::PyCall.PyObject, ::Type{PyCall.PyAny}, ::Array{Float64,1}, ::Vararg{Any,N} where N) at /home/ctroupin/.julia/packages/PyCall/0jMpb/src/pyfncall.jl:86",
      " [8] (::getfield(PyCall, Symbol(\"#kw##pycall\")))(::NamedTuple{(:vmin, :vmax),Tuple{Int64,Float64}}, ::typeof(PyCall.pycall), ::PyCall.PyObject, ::Type{PyCall.PyAny}, ::Array{Float64,1}, ::Vararg{Any,N} where N) at ./none:0",
      " [9] #pcolormesh#82(::Base.Iterators.Pairs{Symbol,Real,Tuple{Symbol,Symbol},NamedTuple{(:vmin, :vmax),Tuple{Int64,Float64}}}, ::Function, ::Array{Float64,1}, ::Vararg{Any,N} where N) at /home/ctroupin/.julia/packages/PyPlot/fZuOQ/src/PyPlot.jl:179",
      " [10] (::getfield(PyPlot, Symbol(\"#kw##pcolormesh\")))(::NamedTuple{(:vmin, :vmax),Tuple{Int64,Float64}}, ::typeof(pcolormesh), ::Array{Float64,1}, ::Array{Float64,1}, ::Array{Float64,2}) at ./none:0",
      " [11] #pcolormesh#203(::Base.Iterators.Pairs{Symbol,Real,Tuple{Symbol,Symbol},NamedTuple{(:vmin, :vmax),Tuple{Int64,Float64}}}, ::Function, ::StepRangeLen{Float64,Base.TwicePrecision{Float64},Base.TwicePrecision{Float64}}, ::StepRangeLen{Float64,Base.TwicePrecision{Float64},Base.TwicePrecision{Float64}}, ::Array{Float64,2}) at /home/ctroupin/.julia/packages/PyPlot/fZuOQ/src/PyPlot.jl:268",
      " [12] (::getfield(PyPlot, Symbol(\"#kw##pcolormesh\")))(::NamedTuple{(:vmin, :vmax),Tuple{Int64,Float64}}, ::typeof(pcolormesh), ::StepRangeLen{Float64,Base.TwicePrecision{Float64},Base.TwicePrecision{Float64}}, ::StepRangeLen{Float64,Base.TwicePrecision{Float64},Base.TwicePrecision{Float64}}, ::Array{Float64,2}) at ./none:0",
      " [13] top-level scope at In[12]:3"
     ]
    }
   ],
   "source": [
    "figure()\n",
    "ax1 = subplot(1,1,1)\n",
    "pcolormesh(gridlonBenthos, gridlatBenthos, permutedims(trait_all[1,:,:], [2,1]), vmin=0, vmax=1.)\n",
    "PyPlot.plot(obslon, obslat, \"ro\", markersize=0.1)\n",
    "PyPlot.contourf(bx,by,permutedims(b,[2,1]), levels = [-1e5,0], colors = [[.5,.5,.5]])\n",
    "\n",
    "PyPlot.contourf(gridlonBenthos, gridlatBenthos, permutedims(traits_err, [2,1]), \n",
    "    levels = [.5, 1], colors = [[.95,.95,.95]])\n",
    "ax1[:set_xlim](minimum(gridlonBenthos), maximum(gridlonBenthos))\n",
    "ax1[:set_ylim](minimum(gridlatBenthos), maximum(gridlatBenthos))"
   ]
  },
  {
   "cell_type": "code",
   "execution_count": null,
   "metadata": {
    "collapsed": true
   },
   "outputs": [],
   "source": []
  }
 ],
 "metadata": {
  "kernelspec": {
   "display_name": "Julia 1.0.0",
   "language": "julia",
   "name": "julia-1.0"
  },
  "language_info": {
   "file_extension": ".jl",
   "mimetype": "application/julia",
   "name": "julia",
   "version": "1.0.0"
  }
 },
 "nbformat": 4,
 "nbformat_minor": 2
}
