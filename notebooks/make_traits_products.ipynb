{
 "cells": [
  {
   "cell_type": "code",
   "execution_count": 2,
   "metadata": {
    "collapsed": true
   },
   "outputs": [],
   "source": [
    "using DIVAnd\n",
    "using PyPlot\n",
    "using NCDatasets\n",
    "using Missings\n",
    "using Interpolations\n",
    "using Plots\n",
    "\n",
    "if VERSION >= v\"0.7\"\n",
    "    using Random\n",
    "    using DelimitedFiles\n",
    "    using Statistics\n",
    "    using Printf\n",
    "    using FileIO\n",
    "else\n",
    "    using Compat: @info, @warn, range, cat\n",
    "end\n",
    "\n",
    "# Module where the output grid and the modules are defined\n",
    "include(\"../src/emodnet_bio_grid.jl\");"
   ]
  },
  {
   "cell_type": "code",
   "execution_count": null,
   "metadata": {
    "collapsed": true
   },
   "outputs": [],
   "source": []
  }
 ],
 "metadata": {
  "kernelspec": {
   "display_name": "Julia 1.0.0",
   "language": "julia",
   "name": "julia-1.0"
  },
  "language_info": {
   "file_extension": ".jl",
   "mimetype": "application/julia",
   "name": "julia",
   "version": "1.0.0"
  }
 },
 "nbformat": 4,
 "nbformat_minor": 2
}
